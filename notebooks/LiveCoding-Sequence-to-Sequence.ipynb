{
 "cells": [
  {
   "cell_type": "markdown",
   "metadata": {},
   "source": [
    "# 一个从机器翻译而来的伟大模型Sequence-to-Sequence"
   ]
  },
  {
   "cell_type": "markdown",
   "metadata": {},
   "source": [
    "英文到中文的翻译\n",
    "\n",
    "- I love you\n",
    "- 我 爱 你\n",
    "\n",
    "- Hi\n",
    "- 你 好\n",
    "\n",
    "Sequence to Sequence 就是 从一个不定长的序列转换到另一个不定长的序列\n",
    "\n",
    "- 问答：问题序列到答案序列的转换\n",
    "- 闲聊：闲聊之间的上下句的序列转换\n",
    "- 问题生成：从答案到问题\n",
    "- 从人类语言到机器语言的翻译：从句子到SQL数据库查询语言的翻译\n",
    "  - 北京有多少常住人口，select population from data where city = 'beijing'\n",
    "- 从机器语言到人类语言的翻译，NLG\n",
    "- 股价预测：输入序列是大前天、前天、昨天、今天的股价，输出序列是明天、后天、大后天的股价\n",
    "\n",
    "模型可能能做到什么 不等于 模型能做到什么\n",
    "\n",
    "人识别一个事情，需要5分钟，准确率是90%\n",
    "\n",
    "机器识别一个同样的事情，需要1秒钟，准确率是70%\n",
    "\n",
    "机器识别一个事情1秒钟，人判断机器是否做错了需要1分钟\n",
    "\n",
    "0.7 * （1s + 人判断的时间1m） + 0.3 （1s + 人修整的时间5m）  < 5m"
   ]
  },
  {
   "cell_type": "markdown",
   "metadata": {},
   "source": [
    "s2s 分为 encoder 和 decoder\n",
    "\n",
    "encoder是理解输入序列的部分\n",
    "\n",
    "decoder是根据这个理解来的临时记忆，生成目标序列的部分\n",
    "\n",
    "encoder('I love you') = 临时记忆\n",
    "\n",
    "decoder(临时记忆，开始符号/上一轮输出的结果) = 当前结果\n",
    "\n",
    "- decoder的输入：开始符号 我 爱 你\n",
    "- decoder的输出：我 爱 你 结束符号"
   ]
  },
  {
   "cell_type": "code",
   "execution_count": 3,
   "metadata": {},
   "outputs": [],
   "source": [
    "# 输入一个1到9的奇数的序列，如果输入的是1 3 7 9，那么输出对应的2 4 8 10，输入5，输出 6 6"
   ]
  },
  {
   "cell_type": "markdown",
   "metadata": {},
   "source": [
    "- Input: 1 7 7\n",
    " - Output: 2 8 8\n",
    "- Input: 5 7\n",
    " - Output 6 6 8\n",
    "- Input 1\n",
    " - Output 2\n",
    "- Input 1 1 1 1\n",
    " - Output 2 2 2 2\n",
    "\n",
    "特殊字符：\n",
    "\n",
    "- 0用来填充\n",
    "- 11 代表decoder的开始符号\n",
    "- 12 代表decoder的结束符号\n",
    "\n",
    "0 1-10 11 12\n",
    "\n",
    "词表 = 13"
   ]
  },
  {
   "cell_type": "code",
   "execution_count": null,
   "metadata": {},
   "outputs": [],
   "source": []
  },
  {
   "cell_type": "code",
   "execution_count": 4,
   "metadata": {},
   "outputs": [],
   "source": [
    "import numpy as np\n",
    "import tensorflow as tf"
   ]
  },
  {
   "cell_type": "code",
   "execution_count": 9,
   "metadata": {},
   "outputs": [],
   "source": [
    "encoder_input = tf.keras.layers.Input((None,), dtype=tf.int32)\n",
    "x = encoder_input\n",
    "x = tf.keras.layers.Embedding(13, 32, mask_zero=True)(x)\n",
    "x = tf.keras.layers.LSTM(32, return_state=True)(x)\n",
    "_, encoder_hidden, encoder_carry = x\n",
    "encoder = tf.keras.Model(\n",
    "    inputs=encoder_input,\n",
    "    outputs=[encoder_hidden, encoder_carry]\n",
    ")"
   ]
  },
  {
   "cell_type": "code",
   "execution_count": 13,
   "metadata": {},
   "outputs": [],
   "source": [
    "# encoder(tf.constant([\n",
    "#     [1, 2],\n",
    "#     [1, 3],\n",
    "#     [1, 4]\n",
    "# ]))"
   ]
  },
  {
   "cell_type": "code",
   "execution_count": 14,
   "metadata": {},
   "outputs": [],
   "source": [
    "decoder_input = tf.keras.layers.Input((None,), dtype=tf.int32)\n",
    "decoder_hidden_input = tf.keras.layers.Input((32), dtype=tf.float32)\n",
    "decoder_carry_input = tf.keras.layers.Input((32), dtype=tf.float32)\n",
    "\n",
    "x = decoder_input\n",
    "x = tf.keras.layers.Embedding(13, 32, mask_zero=True)(x)\n",
    "x = tf.keras.layers.LSTM(32, return_sequences=True)(\n",
    "    x,\n",
    "    initial_state=[decoder_hidden_input, decoder_carry_input]\n",
    ")\n",
    "x = tf.keras.layers.Dense(13)(x)\n",
    "x = tf.keras.layers.Activation('softmax')(x)\n",
    "\n",
    "decoder = tf.keras.Model(\n",
    "    inputs=[\n",
    "        decoder_input,\n",
    "        decoder_hidden_input,\n",
    "        decoder_carry_input\n",
    "    ],\n",
    "    outputs=x\n",
    ")"
   ]
  },
  {
   "cell_type": "code",
   "execution_count": 15,
   "metadata": {},
   "outputs": [],
   "source": [
    "model_encoder_input = tf.keras.layers.Input((None,), dtype=tf.int32)\n",
    "model_decoder_input = tf.keras.layers.Input((None,), dtype=tf.int32)\n",
    "\n",
    "h, c = encoder(model_encoder_input)\n",
    "outputs = decoder([model_decoder_input, h, c])\n",
    "\n",
    "model = tf.keras.Model(\n",
    "    inputs=[model_encoder_input, model_decoder_input],\n",
    "    outputs=outputs\n",
    ")"
   ]
  },
  {
   "cell_type": "code",
   "execution_count": 16,
   "metadata": {},
   "outputs": [],
   "source": [
    "x0 = tf.constant([\n",
    "    [1, 3, 5]\n",
    "])\n",
    "x1 = tf.constant([\n",
    "    [11, 2, 4, 6, 6]\n",
    "])\n",
    "y = tf.constant([\n",
    "    [2, 4, 6, 6, 12]\n",
    "])"
   ]
  },
  {
   "cell_type": "code",
   "execution_count": 18,
   "metadata": {},
   "outputs": [
    {
     "data": {
      "text/plain": [
       "<tf.Tensor: shape=(1, 5, 13), dtype=float32, numpy=\n",
       "array([[[0.07671642, 0.07746661, 0.07570892, 0.07719516, 0.07682551,\n",
       "         0.07719752, 0.07587711, 0.07541024, 0.07751805, 0.07759541,\n",
       "         0.07775977, 0.07750116, 0.07722816],\n",
       "        [0.07662804, 0.07743538, 0.07606794, 0.07681329, 0.0768034 ,\n",
       "         0.07688133, 0.07663078, 0.07598786, 0.07685236, 0.07759423,\n",
       "         0.07814002, 0.07705045, 0.07711499],\n",
       "        [0.07674754, 0.07716187, 0.0762522 , 0.07715333, 0.07726897,\n",
       "         0.07707006, 0.07612883, 0.07673416, 0.07721787, 0.07681563,\n",
       "         0.07747332, 0.07720092, 0.07677533],\n",
       "        [0.07741703, 0.07771051, 0.07592827, 0.07690234, 0.0773251 ,\n",
       "         0.07696477, 0.07688358, 0.07663378, 0.07680194, 0.07655036,\n",
       "         0.07755263, 0.07681946, 0.07651027],\n",
       "        [0.07794312, 0.07806742, 0.07572433, 0.07679151, 0.07729454,\n",
       "         0.07690705, 0.07735759, 0.07660859, 0.07661653, 0.0763388 ,\n",
       "         0.07746013, 0.0765974 , 0.07629302]]], dtype=float32)>"
      ]
     },
     "execution_count": 18,
     "metadata": {},
     "output_type": "execute_result"
    }
   ],
   "source": [
    "model([x0, x1])"
   ]
  },
  {
   "cell_type": "code",
   "execution_count": 19,
   "metadata": {},
   "outputs": [],
   "source": [
    "model.compile(\n",
    "    loss=tf.keras.losses.SparseCategoricalCrossentropy(),\n",
    "    optimizer=tf.keras.optimizers.Adam()\n",
    ")"
   ]
  },
  {
   "cell_type": "code",
   "execution_count": 20,
   "metadata": {},
   "outputs": [
    {
     "data": {
      "text/plain": [
       "2.572266101837158"
      ]
     },
     "execution_count": 20,
     "metadata": {},
     "output_type": "execute_result"
    }
   ],
   "source": [
    "model.train_on_batch([x0, x1], y)"
   ]
  },
  {
   "cell_type": "code",
   "execution_count": 27,
   "metadata": {},
   "outputs": [
    {
     "data": {
      "text/plain": [
       "2.529433488845825"
      ]
     },
     "execution_count": 27,
     "metadata": {},
     "output_type": "execute_result"
    }
   ],
   "source": [
    "model.train_on_batch([x0, x1], y)"
   ]
  },
  {
   "cell_type": "code",
   "execution_count": 42,
   "metadata": {},
   "outputs": [],
   "source": [
    "def make_fake_data(batch_size=32):\n",
    "    x0, x1, y = [], [], []\n",
    "    for _ in range(batch_size):\n",
    "        length = np.random.randint(1, 4)\n",
    "        ix0 = [np.random.choice([1, 3, 5, 7, 9]) for _ in range(length)]\n",
    "        outs = []\n",
    "        for x in ix0:\n",
    "            if x == 5:\n",
    "                outs.append(6)\n",
    "                outs.append(6)\n",
    "            else:\n",
    "                outs.append(x + 1)\n",
    "        ix1 = [11] + outs\n",
    "        iy = outs + [12]\n",
    "        x0.append(ix0)\n",
    "        x1.append(ix1)\n",
    "        y.append(iy)\n",
    "    x0 = tf.ragged.constant(x0).to_tensor()\n",
    "    x1 = tf.ragged.constant(x1).to_tensor()\n",
    "    y = tf.ragged.constant(y).to_tensor()\n",
    "    return x0, x1, y"
   ]
  },
  {
   "cell_type": "code",
   "execution_count": 43,
   "metadata": {},
   "outputs": [],
   "source": [
    "x0, x1, y = make_fake_data(4)"
   ]
  },
  {
   "cell_type": "code",
   "execution_count": 48,
   "metadata": {
    "scrolled": true
   },
   "outputs": [
    {
     "name": "stdout",
     "output_type": "stream",
     "text": [
      "0 1.7171523571014404\n",
      "10 1.3783189058303833\n",
      "20 1.4399694204330444\n",
      "30 1.565427303314209\n",
      "40 1.1630637645721436\n",
      "50 1.164230465888977\n",
      "60 1.043911099433899\n",
      "70 0.9607015252113342\n",
      "80 0.7621504068374634\n",
      "90 0.8628935813903809\n",
      "100 0.6776946187019348\n",
      "110 0.8877109289169312\n",
      "120 0.742041289806366\n",
      "130 0.6445074081420898\n",
      "140 0.6282411813735962\n",
      "150 0.5600652694702148\n",
      "160 0.5990970730781555\n",
      "170 0.7273343801498413\n",
      "180 0.48921307921409607\n",
      "190 0.617664098739624\n",
      "200 0.45429527759552\n",
      "210 0.389764666557312\n",
      "220 0.39568212628364563\n",
      "230 0.3505368232727051\n",
      "240 0.31553593277931213\n",
      "250 0.34726014733314514\n",
      "260 0.37494605779647827\n",
      "270 0.3676977753639221\n",
      "280 0.23363129794597626\n",
      "290 0.2494061440229416\n",
      "300 0.3404213786125183\n",
      "310 0.259177565574646\n",
      "320 0.27650898694992065\n",
      "330 0.3305889070034027\n",
      "340 0.23245744407176971\n",
      "350 0.1866666078567505\n",
      "360 0.17823581397533417\n",
      "370 0.15722131729125977\n",
      "380 0.13178998231887817\n",
      "390 0.20035308599472046\n",
      "400 0.14655131101608276\n",
      "410 0.15461179614067078\n",
      "420 0.1921398937702179\n",
      "430 0.11749550700187683\n",
      "440 0.10021598637104034\n",
      "450 0.1257023811340332\n",
      "460 0.09134861081838608\n",
      "470 0.13755443692207336\n",
      "480 0.09071303904056549\n",
      "490 0.11739838868379593\n",
      "500 0.08531157672405243\n",
      "510 0.11503511667251587\n",
      "520 0.10387516021728516\n",
      "530 0.07582227140665054\n",
      "540 0.09566178172826767\n",
      "550 0.0858885869383812\n",
      "560 0.06959985196590424\n",
      "570 0.07577904313802719\n",
      "580 0.045826394110918045\n",
      "590 0.07435821741819382\n",
      "600 0.06780469417572021\n",
      "610 0.040715161710977554\n",
      "620 0.04381392151117325\n",
      "630 0.055841729044914246\n",
      "640 0.041034575551748276\n",
      "650 0.06876096874475479\n",
      "660 0.041011881083250046\n",
      "670 0.0470188669860363\n",
      "680 0.05402844026684761\n",
      "690 0.04671068117022514\n",
      "700 0.04203830659389496\n",
      "710 0.03222863748669624\n",
      "720 0.03836885467171669\n",
      "730 0.02397124096751213\n",
      "740 0.03825512155890465\n",
      "750 0.01802547089755535\n",
      "760 0.03166743367910385\n",
      "770 0.0260695181787014\n",
      "780 0.03127839043736458\n",
      "790 0.025336751714348793\n",
      "800 0.02408471331000328\n",
      "810 0.032268594950437546\n",
      "820 0.037680745124816895\n",
      "830 0.03229920193552971\n",
      "840 0.029494689777493477\n",
      "850 0.020571356639266014\n",
      "860 0.015198293142020702\n",
      "870 0.04274916648864746\n",
      "880 0.03217692673206329\n",
      "890 0.017470823600888252\n",
      "900 0.01156848669052124\n",
      "910 0.018789375200867653\n",
      "920 0.029685527086257935\n",
      "930 0.026361268013715744\n",
      "940 0.02536332607269287\n",
      "950 0.015008310787379742\n",
      "960 0.043620433658361435\n",
      "970 0.026031941175460815\n",
      "980 0.01391613483428955\n",
      "990 0.025641677901148796\n"
     ]
    }
   ],
   "source": [
    "for i in range(1000):\n",
    "    x0, x1, y = make_fake_data(32)\n",
    "    loss = model.train_on_batch([x0, x1], y)\n",
    "    if i % 10 == 0:\n",
    "        print(i, loss)"
   ]
  },
  {
   "cell_type": "code",
   "execution_count": 49,
   "metadata": {},
   "outputs": [],
   "source": [
    "x0 = tf.constant([\n",
    "    [1, 3, 5]\n",
    "])\n",
    "x1 = tf.constant([\n",
    "    [11]\n",
    "])"
   ]
  },
  {
   "cell_type": "code",
   "execution_count": 52,
   "metadata": {},
   "outputs": [
    {
     "data": {
      "text/plain": [
       "array([[2]])"
      ]
     },
     "execution_count": 52,
     "metadata": {},
     "output_type": "execute_result"
    }
   ],
   "source": [
    "model.predict([x0, x1]).argmax(-1)"
   ]
  },
  {
   "cell_type": "code",
   "execution_count": 53,
   "metadata": {},
   "outputs": [],
   "source": [
    "x0 = tf.constant([\n",
    "    [1, 3, 5]\n",
    "])\n",
    "x1 = tf.constant([\n",
    "    [11, 2]\n",
    "])"
   ]
  },
  {
   "cell_type": "code",
   "execution_count": 54,
   "metadata": {},
   "outputs": [
    {
     "data": {
      "text/plain": [
       "array([[2, 4]])"
      ]
     },
     "execution_count": 54,
     "metadata": {},
     "output_type": "execute_result"
    }
   ],
   "source": [
    "model.predict([x0, x1]).argmax(-1)"
   ]
  },
  {
   "cell_type": "code",
   "execution_count": 55,
   "metadata": {},
   "outputs": [],
   "source": [
    "x0 = tf.constant([\n",
    "    [1, 3, 5]\n",
    "])\n",
    "x1 = tf.constant([\n",
    "    [11, 2, 4]\n",
    "])"
   ]
  },
  {
   "cell_type": "code",
   "execution_count": 56,
   "metadata": {},
   "outputs": [
    {
     "data": {
      "text/plain": [
       "array([[2, 4, 6]])"
      ]
     },
     "execution_count": 56,
     "metadata": {},
     "output_type": "execute_result"
    }
   ],
   "source": [
    "model.predict([x0, x1]).argmax(-1)"
   ]
  },
  {
   "cell_type": "code",
   "execution_count": 57,
   "metadata": {},
   "outputs": [],
   "source": [
    "x0 = tf.constant([\n",
    "    [1, 3, 5]\n",
    "])\n",
    "x1 = tf.constant([\n",
    "    [11, 2, 4, 6]\n",
    "])"
   ]
  },
  {
   "cell_type": "code",
   "execution_count": 58,
   "metadata": {},
   "outputs": [
    {
     "data": {
      "text/plain": [
       "array([[2, 4, 6, 6]])"
      ]
     },
     "execution_count": 58,
     "metadata": {},
     "output_type": "execute_result"
    }
   ],
   "source": [
    "model.predict([x0, x1]).argmax(-1)"
   ]
  },
  {
   "cell_type": "code",
   "execution_count": 59,
   "metadata": {},
   "outputs": [],
   "source": [
    "x0 = tf.constant([\n",
    "    [1, 3, 5]\n",
    "])\n",
    "x1 = tf.constant([\n",
    "    [11, 2, 4, 6, 6]\n",
    "])"
   ]
  },
  {
   "cell_type": "code",
   "execution_count": 60,
   "metadata": {},
   "outputs": [
    {
     "data": {
      "text/plain": [
       "array([[ 2,  4,  6,  6, 12]])"
      ]
     },
     "execution_count": 60,
     "metadata": {},
     "output_type": "execute_result"
    }
   ],
   "source": [
    "model.predict([x0, x1]).argmax(-1)"
   ]
  },
  {
   "cell_type": "code",
   "execution_count": 61,
   "metadata": {},
   "outputs": [],
   "source": [
    "def predict(input_sequence=[1, 3, 5]):\n",
    "    x0 = tf.constant([input_sequence])\n",
    "    x1 = [11]\n",
    "    while True:\n",
    "        pred = model.predict([x0, tf.constant([x1])]).argmax(-1)\n",
    "        pred = pred[-1][-1]\n",
    "        print(pred)\n",
    "        if pred == 12:\n",
    "            break\n",
    "        x1.append(pred)"
   ]
  },
  {
   "cell_type": "code",
   "execution_count": 68,
   "metadata": {},
   "outputs": [
    {
     "name": "stdout",
     "output_type": "stream",
     "text": [
      "6\n",
      "6\n",
      "8\n",
      "10\n",
      "12\n"
     ]
    }
   ],
   "source": [
    "predict([5, 7, 9])"
   ]
  },
  {
   "cell_type": "code",
   "execution_count": null,
   "metadata": {},
   "outputs": [],
   "source": []
  }
 ],
 "metadata": {
  "kernelspec": {
   "display_name": "Python 3",
   "language": "python",
   "name": "python3"
  },
  "language_info": {
   "codemirror_mode": {
    "name": "ipython",
    "version": 3
   },
   "file_extension": ".py",
   "mimetype": "text/x-python",
   "name": "python",
   "nbconvert_exporter": "python",
   "pygments_lexer": "ipython3",
   "version": "3.8.6"
  }
 },
 "nbformat": 4,
 "nbformat_minor": 4
}
