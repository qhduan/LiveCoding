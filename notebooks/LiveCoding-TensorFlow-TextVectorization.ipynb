{
 "cells": [
  {
   "cell_type": "code",
   "execution_count": 21,
   "metadata": {},
   "outputs": [
    {
     "name": "stdout",
     "output_type": "stream",
     "text": [
      "Defaulting to user installation because normal site-packages is not writeable\n",
      "Looking in indexes: https://pypi.doubanio.com/simple\n",
      "Requirement already satisfied: zh-dataset-inews in ./.local/lib/python3.8/site-packages (0.0.2)\n"
     ]
    }
   ],
   "source": [
    "!pip install zh-dataset-inews"
   ]
  },
  {
   "cell_type": "code",
   "execution_count": 22,
   "metadata": {},
   "outputs": [],
   "source": [
    "from zh_dataset_inews import title_train, content_train, label_train"
   ]
  },
  {
   "cell_type": "code",
   "execution_count": 57,
   "metadata": {},
   "outputs": [],
   "source": [
    "from sklearn.metrics import accuracy_score"
   ]
  },
  {
   "cell_type": "code",
   "execution_count": 27,
   "metadata": {},
   "outputs": [
    {
     "name": "stdout",
     "output_type": "stream",
     "text": [
      "1 周六晚到卖场听夜场摇滚\n",
      "1 北京老教授泄露，持有山河药辅节后下跌公告，速速看看！！！\n",
      "0 张滩镇积极开展基干民兵训练活动\n",
      "2 俩小伙无证骑摩托，未成年还试图闯卡！\n",
      "2 不好意思，你不配做深圳人!_搜狐汽车_搜狐网\n",
      "2 蔡英文元旦升旗遇抗议 民众：枪毙蔡英文\n",
      "1 巢湖市绞吸机械清淤公司重在回访-照明器材项目合作–光波网\n",
      "2 出租屋半年被偷8次：整栋楼共用一个锁芯\n",
      "1 从林芝到拉萨，还可以这样玩!\n",
      "1 为何说奇瑞是技术达人? 看了“雄狮”你就懂了\n"
     ]
    }
   ],
   "source": [
    "for x, y in zip(title_train[:10], label_train[:10]):\n",
    "    print(y, x)"
   ]
  },
  {
   "cell_type": "code",
   "execution_count": 10,
   "metadata": {},
   "outputs": [],
   "source": [
    "import tensorflow as tf"
   ]
  },
  {
   "cell_type": "code",
   "execution_count": 12,
   "metadata": {},
   "outputs": [],
   "source": []
  },
  {
   "cell_type": "code",
   "execution_count": 28,
   "metadata": {},
   "outputs": [],
   "source": [
    "title_train = [\n",
    "    ' '.join(x)\n",
    "    for x in title_train\n",
    "]"
   ]
  },
  {
   "cell_type": "code",
   "execution_count": 29,
   "metadata": {},
   "outputs": [
    {
     "data": {
      "text/plain": [
       "['周 六 晚 到 卖 场 听 夜 场 摇 滚',\n",
       " '北 京 老 教 授 泄 露 ， 持 有 山 河 药 辅 节 后 下 跌 公 告 ， 速 速 看 看 ！ ！ ！',\n",
       " '张 滩 镇 积 极 开 展 基 干 民 兵 训 练 活 动']"
      ]
     },
     "execution_count": 29,
     "metadata": {},
     "output_type": "execute_result"
    }
   ],
   "source": [
    "title_train[:3]"
   ]
  },
  {
   "cell_type": "code",
   "execution_count": null,
   "metadata": {},
   "outputs": [],
   "source": []
  },
  {
   "cell_type": "code",
   "execution_count": 30,
   "metadata": {},
   "outputs": [],
   "source": [
    "text_vector = tf.keras.layers.experimental.preprocessing.TextVectorization()\n",
    "text_vector.adapt(title_train)"
   ]
  },
  {
   "cell_type": "code",
   "execution_count": 32,
   "metadata": {},
   "outputs": [
    {
     "name": "stdout",
     "output_type": "stream",
     "text": [
      "3301\n"
     ]
    }
   ],
   "source": [
    "print(len(text_vector.get_vocabulary()))"
   ]
  },
  {
   "cell_type": "code",
   "execution_count": 50,
   "metadata": {},
   "outputs": [],
   "source": [
    "model = tf.keras.Sequential([\n",
    "    text_vector,\n",
    "    tf.keras.layers.Embedding(len(text_vector.get_vocabulary()), 64),\n",
    "    tf.keras.layers.LSTM(64),\n",
    "    tf.keras.layers.Dense(3),\n",
    "    tf.keras.layers.Activation('softmax')\n",
    "])"
   ]
  },
  {
   "cell_type": "code",
   "execution_count": 51,
   "metadata": {},
   "outputs": [
    {
     "name": "stdout",
     "output_type": "stream",
     "text": [
      "WARNING:tensorflow:Layers in a Sequential model should only have a single input tensor, but we receive a <class 'list'> input: ['周 六 晚 到 卖 场 听 夜 场 摇 滚', '北 京 老 教 授 泄 露 ， 持 有 山 河 药 辅 节 后 下 跌 公 告 ， 速 速 看 看 ！ ！ ！', '张 滩 镇 积 极 开 展 基 干 民 兵 训 练 活 动']\n",
      "Consider rewriting this model with the Functional API.\n"
     ]
    },
    {
     "data": {
      "text/plain": [
       "<tf.Tensor: shape=(3, 3), dtype=float32, numpy=\n",
       "array([[0.3379109 , 0.33149937, 0.3305898 ],\n",
       "       [0.32425752, 0.33757558, 0.3381668 ],\n",
       "       [0.3379548 , 0.33167896, 0.33036625]], dtype=float32)>"
      ]
     },
     "execution_count": 51,
     "metadata": {},
     "output_type": "execute_result"
    }
   ],
   "source": [
    "model(title_train[:3])"
   ]
  },
  {
   "cell_type": "code",
   "execution_count": 59,
   "metadata": {},
   "outputs": [],
   "source": [
    "model.compile(\n",
    "    loss=tf.keras.losses.SparseCategoricalCrossentropy(),\n",
    "    optimizer=tf.keras.optimizers.Adam(),\n",
    "    metrics=['accuracy']\n",
    ")"
   ]
  },
  {
   "cell_type": "code",
   "execution_count": 60,
   "metadata": {},
   "outputs": [
    {
     "name": "stdout",
     "output_type": "stream",
     "text": [
      "168/168 [==============================] - 18s 109ms/step - loss: 0.6814 - accuracy: 0.7445\n"
     ]
    },
    {
     "data": {
      "text/plain": [
       "<tensorflow.python.keras.callbacks.History at 0x7fbd46410490>"
      ]
     },
     "execution_count": 60,
     "metadata": {},
     "output_type": "execute_result"
    }
   ],
   "source": [
    "model.fit(\n",
    "    title_train,\n",
    "    label_train\n",
    ")"
   ]
  },
  {
   "cell_type": "code",
   "execution_count": 54,
   "metadata": {},
   "outputs": [],
   "source": [
    "pred = model.predict(title_train)"
   ]
  },
  {
   "cell_type": "code",
   "execution_count": 58,
   "metadata": {},
   "outputs": [
    {
     "data": {
      "text/plain": [
       "0.6541549953314659"
      ]
     },
     "execution_count": 58,
     "metadata": {},
     "output_type": "execute_result"
    }
   ],
   "source": [
    "accuracy_score(\n",
    "    label_train,\n",
    "    pred.argmax(-1)\n",
    ")"
   ]
  },
  {
   "cell_type": "code",
   "execution_count": null,
   "metadata": {},
   "outputs": [],
   "source": []
  }
 ],
 "metadata": {
  "kernelspec": {
   "display_name": "Python 3",
   "language": "python",
   "name": "python3"
  },
  "language_info": {
   "codemirror_mode": {
    "name": "ipython",
    "version": 3
   },
   "file_extension": ".py",
   "mimetype": "text/x-python",
   "name": "python",
   "nbconvert_exporter": "python",
   "pygments_lexer": "ipython3",
   "version": "3.8.6"
  }
 },
 "nbformat": 4,
 "nbformat_minor": 4
}
