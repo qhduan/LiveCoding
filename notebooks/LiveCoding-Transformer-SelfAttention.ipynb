{
 "cells": [
  {
   "cell_type": "markdown",
   "metadata": {},
   "source": [
    "# Attention\n",
    "\n",
    "注意力机制\n",
    "\n",
    "找到哪更应该被注意 - 找注意力\n",
    "\n",
    "然后将原来的内容，按照注意力加权求和，得到真正要被注意的内容\n",
    "\n",
    "- 今天天气不错\n",
    "- 今天太糟糕了\n",
    "- 今天天气\n",
    "- 不错\n",
    "\n",
    "sequence to sequence\n",
    "\n",
    "序列到序列\n",
    "\n",
    "我 爱 你\n",
    "\n",
    "I love you\n",
    "\n",
    "encoder(我爱你) -> 对上文的理解\n",
    "\n",
    "- t0: decoder(对上文的理解, 起始符号) -> I\n",
    "- t1: decoder(对上文的理解', I) -> love\n",
    "- t2: decoder(对上文的理解'', love) -> you\n",
    "- t3: decoder(对上文的理解''', you) -> 终止字符\n",
    "\n",
    "\n",
    "对上文的理解 -> 对每个字的理解 -> 【我的理解， 爱的理解， 你的理解】\n",
    "\n",
    "找到注意力(【我的理解， 爱的理解， 你的理解】: Key, 起始字符: Query） -> 注意力 = [0.98, 0.01, 0.01]\n",
    "\n",
    "注意力 * 每个字的理解 = sum( [0.98, 0.01, 0.01] * 【我的理解， 爱的理解， 你的理解】: Value )\n",
    "                   = sum( 0.98 * 我 + 0.01 * 爱 + 0.01 * 你 )\n",
    "                   = 根据起始字符进行注意力后的理解\n",
    "\n",
    "根据起始字符进行注意力后的理解 = 注意理解(【我的理解， 爱的理解， 你的理解】, 起始字符)\n",
    "\n",
    "- t0: decoder(根据起始字符进行注意力后的理解) -> I\n",
    "- t1: decoder(根据I进行注意力后的理解, I) -> love\n",
    "- t2: decoder(根据love进行注意力后的理解, love) -> you\n",
    "- t3: decoder(根据you进行注意力后的理解, you) -> 终止字符\n",
    "\n",
    "\n",
    "【我的理解， 爱的理解， 你的理解】\n",
    "\n",
    "\n",
    "```\n",
    "        我的理解， 爱的理解， 你的理解\n",
    "我的理解      1.0    0.0      0.0\n",
    "爱的理解      0.9    0.01      0.0\n",
    "你的理解      0.0    0.0       0.0\n",
    "```\n",
    "\n",
    "【我的理解'， 爱的理解'， 你的理解'】\n",
    "\n"
   ]
  },
  {
   "cell_type": "code",
   "execution_count": 1,
   "metadata": {},
   "outputs": [],
   "source": [
    "import tensorflow as tf"
   ]
  },
  {
   "cell_type": "code",
   "execution_count": 2,
   "metadata": {},
   "outputs": [],
   "source": [
    "batch_size = 4\n",
    "sequence_length = 10\n",
    "vector_size = 32\n",
    "\n",
    "x = tf.random.uniform((batc\n",
    "                       h_size, sequence_length, vector_size))"
   ]
  },
  {
   "cell_type": "code",
   "execution_count": 3,
   "metadata": {},
   "outputs": [
    {
     "data": {
      "text/plain": [
       "TensorShape([4, 10, 32])"
      ]
     },
     "execution_count": 3,
     "metadata": {},
     "output_type": "execute_result"
    }
   ],
   "source": [
    "x.shape"
   ]
  },
  {
   "cell_type": "code",
   "execution_count": 16,
   "metadata": {},
   "outputs": [],
   "source": [
    "def self_attention(x):\n",
    "    key = tf.keras.layers.Dense(vector_size)(x)\n",
    "    value = tf.keras.layers.Dense(vector_size)(x)\n",
    "    query = tf.keras.layers.Dense(vector_size)(x)\n",
    "\n",
    "    atten = tf.matmul(query, key, transpose_b=True)\n",
    "    atten = atten / tf.sqrt(tf.cast(vector_size, tf.float32))\n",
    "    atten = tf.nn.softmax(atten)\n",
    "    y = tf.matmul(atten, value)\n",
    "    return y"
   ]
  },
  {
   "cell_type": "code",
   "execution_count": 17,
   "metadata": {},
   "outputs": [
    {
     "data": {
      "text/plain": [
       "TensorShape([4, 10, 32])"
      ]
     },
     "execution_count": 17,
     "metadata": {},
     "output_type": "execute_result"
    }
   ],
   "source": [
    "self_attention(x).shape"
   ]
  },
  {
   "cell_type": "code",
   "execution_count": null,
   "metadata": {},
   "outputs": [],
   "source": []
  },
  {
   "cell_type": "code",
   "execution_count": 18,
   "metadata": {},
   "outputs": [],
   "source": [
    "batch_size = 4\n",
    "sequence_length = 10\n",
    "vector_size = 32\n",
    "heads = 4\n",
    "\n",
    "x = tf.random.uniform((batch_size, sequence_length, vector_size))"
   ]
  },
  {
   "cell_type": "code",
   "execution_count": 41,
   "metadata": {},
   "outputs": [],
   "source": [
    "def multi_head_self_attention(x):\n",
    "    x_mh = tf.reshape(x, [batch_size, sequence_length, heads, vector_size // heads])\n",
    "    x_mh = tf.transpose(x_mh, (0, 2, 1, 3))\n",
    "    key = tf.keras.layers.Dense(vector_size // heads)(x_mh)\n",
    "    value = tf.keras.layers.Dense(vector_size // heads)(x_mh)\n",
    "    query = tf.keras.layers.Dense(vector_size // heads)(x_mh)\n",
    "    atten = tf.matmul(query, key, transpose_b=True)\n",
    "    atten = atten / tf.sqrt(tf.cast(vector_size, tf.float32))\n",
    "    atten = tf.nn.softmax(atten)\n",
    "    y = tf.matmul(atten, value)\n",
    "    y = tf.transpose(y, [0, 2, 1, 3])\n",
    "    y = tf.reshape(y, (batch_size, sequence_length, vector_size))\n",
    "    return y"
   ]
  },
  {
   "cell_type": "code",
   "execution_count": 42,
   "metadata": {},
   "outputs": [
    {
     "data": {
      "text/plain": [
       "TensorShape([4, 10, 32])"
      ]
     },
     "execution_count": 42,
     "metadata": {},
     "output_type": "execute_result"
    }
   ],
   "source": [
    "multi_head_self_attention(x).shape"
   ]
  },
  {
   "cell_type": "code",
   "execution_count": 43,
   "metadata": {},
   "outputs": [],
   "source": [
    "class MultiHeadSelfAttention(tf.keras.Model):\n",
    "    def __init__(self, vector_size, heads=1):\n",
    "        super(MultiHeadSelfAttention, self).__init__()\n",
    "        self.vector_size = vector_size\n",
    "        self.heads = heads\n",
    "        self.key = tf.keras.layers.Dense(vector_size // heads)\n",
    "        self.value = tf.keras.layers.Dense(vector_size // heads)\n",
    "        self.query = tf.keras.layers.Dense(vector_size // heads)\n",
    "\n",
    "    def call(self, x):\n",
    "        batch_size = x.shape[0]\n",
    "        sequence_length = x.shape[1]\n",
    "        heads = self.heads\n",
    "        vector_size = self.vector_size\n",
    "\n",
    "        x_mh = tf.reshape(x, [batch_size, sequence_length, heads, vector_size // heads])\n",
    "        x_mh = tf.transpose(x_mh, (0, 2, 1, 3))\n",
    "        key = tf.keras.layers.Dense(vector_size // heads)(x_mh)\n",
    "        value = tf.keras.layers.Dense(vector_size // heads)(x_mh)\n",
    "        query = tf.keras.layers.Dense(vector_size // heads)(x_mh)\n",
    "        atten = tf.matmul(query, key, transpose_b=True)\n",
    "        atten = atten / tf.sqrt(tf.cast(vector_size, tf.float32))\n",
    "        atten = tf.nn.softmax(atten)\n",
    "        y = tf.matmul(atten, value)\n",
    "        y = tf.transpose(y, [0, 2, 1, 3])\n",
    "        y = tf.reshape(y, (batch_size, sequence_length, vector_size))\n",
    "        return y"
   ]
  },
  {
   "cell_type": "code",
   "execution_count": 44,
   "metadata": {},
   "outputs": [],
   "source": [
    "batch_size = 4\n",
    "sequence_length = 10\n",
    "vector_size = 32\n",
    "heads = 4\n",
    "\n",
    "x = tf.random.uniform((batch_size, sequence_length, vector_size))"
   ]
  },
  {
   "cell_type": "code",
   "execution_count": 45,
   "metadata": {},
   "outputs": [],
   "source": [
    "attention_model = MultiHeadSelfAttention(vector_size, heads)"
   ]
  },
  {
   "cell_type": "code",
   "execution_count": 47,
   "metadata": {},
   "outputs": [
    {
     "data": {
      "text/plain": [
       "TensorShape([4, 10, 32])"
      ]
     },
     "execution_count": 47,
     "metadata": {},
     "output_type": "execute_result"
    }
   ],
   "source": [
    "attention_model(x).shape"
   ]
  },
  {
   "cell_type": "code",
   "execution_count": 48,
   "metadata": {},
   "outputs": [
    {
     "data": {
      "text/plain": [
       "TensorShape([4, 10, 32])"
      ]
     },
     "execution_count": 48,
     "metadata": {},
     "output_type": "execute_result"
    }
   ],
   "source": [
    "x.shape"
   ]
  },
  {
   "cell_type": "code",
   "execution_count": null,
   "metadata": {},
   "outputs": [],
   "source": []
  }
 ],
 "metadata": {
  "kernelspec": {
   "display_name": "Python 3",
   "language": "python",
   "name": "python3"
  },
  "language_info": {
   "codemirror_mode": {
    "name": "ipython",
    "version": 3
   },
   "file_extension": ".py",
   "mimetype": "text/x-python",
   "name": "python",
   "nbconvert_exporter": "python",
   "pygments_lexer": "ipython3",
   "version": "3.8.6"
  }
 },
 "nbformat": 4,
 "nbformat_minor": 4
}
