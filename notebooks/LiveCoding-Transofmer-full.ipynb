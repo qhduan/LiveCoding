{
 "cells": [
  {
   "cell_type": "markdown",
   "metadata": {},
   "source": [
    "# Transformer 除了Self-Attention的其他部分\n",
    "\n",
    "上一期：\n",
    "\n",
    "LiveCoding-Transformer-Attention部分\n",
    "\n",
    "https://www.bilibili.com/video/BV1nV411a74n"
   ]
  },
  {
   "cell_type": "code",
   "execution_count": 26,
   "metadata": {},
   "outputs": [
    {
     "name": "stderr",
     "output_type": "stream",
     "text": [
      "/home/jovyan/.local/lib/python3.8/site-packages/tensorflow_addons/utils/ensure_tf_install.py:54: UserWarning: Tensorflow Addons supports using Python ops for all Tensorflow versions above or equal to 2.2.0 and strictly below 2.3.0 (nightly versions are not supported). \n",
      " The versions of TensorFlow you are currently using is 2.3.1 and is not supported. \n",
      "Some things might work, some things might not.\n",
      "If you were to encounter a bug, do not file an issue.\n",
      "If you want to make sure you're using a tested and supported configuration, either change the TensorFlow version or the TensorFlow Addons's version. \n",
      "You can find the compatibility matrix in TensorFlow Addon's readme:\n",
      "https://github.com/tensorflow/addons\n",
      "  warnings.warn(\n"
     ]
    }
   ],
   "source": [
    "import numpy as np\n",
    "import tensorflow as tf\n",
    "import tensorflow_addons as tfa"
   ]
  },
  {
   "cell_type": "code",
   "execution_count": 2,
   "metadata": {},
   "outputs": [],
   "source": [
    "class MultiHeadSelfAttention(tf.keras.Model):\n",
    "    def __init__(self, vector_size, heads=1):\n",
    "        super(MultiHeadSelfAttention, self).__init__()\n",
    "        self.vector_size = vector_size\n",
    "        self.heads = heads\n",
    "        self.key = tf.keras.layers.Dense(vector_size // heads)\n",
    "        self.value = tf.keras.layers.Dense(vector_size // heads)\n",
    "        self.query = tf.keras.layers.Dense(vector_size // heads)\n",
    "\n",
    "    def call(self, x):\n",
    "        batch_size = x.shape[0]\n",
    "        sequence_length = x.shape[1]\n",
    "        heads = self.heads\n",
    "        vector_size = self.vector_size\n",
    "\n",
    "        x_mh = tf.reshape(x, [batch_size, sequence_length, heads, vector_size // heads])\n",
    "        x_mh = tf.transpose(x_mh, (0, 2, 1, 3))\n",
    "        key = tf.keras.layers.Dense(vector_size // heads)(x_mh)\n",
    "        value = tf.keras.layers.Dense(vector_size // heads)(x_mh)\n",
    "        query = tf.keras.layers.Dense(vector_size // heads)(x_mh)\n",
    "        atten = tf.matmul(query, key, transpose_b=True)\n",
    "        atten = atten / tf.sqrt(tf.cast(vector_size, tf.float32))\n",
    "        atten = tf.nn.softmax(atten)\n",
    "        y = tf.matmul(atten, value)\n",
    "        y = tf.transpose(y, [0, 2, 1, 3])\n",
    "        y = tf.reshape(y, (batch_size, sequence_length, vector_size))\n",
    "        return y"
   ]
  },
  {
   "cell_type": "code",
   "execution_count": 3,
   "metadata": {},
   "outputs": [],
   "source": [
    "batch_size = 4\n",
    "sequence_length = 10\n",
    "vector_size = 32\n",
    "heads = 4\n",
    "\n",
    "assert vector_size % heads == 0\n",
    "\n",
    "x = tf.random.uniform((batch_size, sequence_length, vector_size))"
   ]
  },
  {
   "cell_type": "code",
   "execution_count": 4,
   "metadata": {},
   "outputs": [],
   "source": [
    "# LayerNormalization 来自 BatchNormalization"
   ]
  },
  {
   "cell_type": "code",
   "execution_count": 27,
   "metadata": {},
   "outputs": [],
   "source": [
    "class Transformer(tf.keras.Model):\n",
    "    \n",
    "    def __init__(self, vector_size, heads=1):\n",
    "        super(Transformer, self).__init__()\n",
    "        self.ln0 = tf.keras.layers.LayerNormalization()\n",
    "        self.ln1 = tf.keras.layers.LayerNormalization()\n",
    "        self.mh_atten = MultiHeadSelfAttention(vector_size, heads)\n",
    "        self.ffn = tf.keras.Sequential([\n",
    "            tf.keras.layers.Dense(vector_size * 4),\n",
    "            tf.keras.layers.Activation(tfa.activations.gelu),\n",
    "            tf.keras.layers.Dense(vector_size),\n",
    "        ])\n",
    "    \n",
    "    def call(self, x):\n",
    "        z = self.ln0(x + self.mh_atten(x))\n",
    "        y = self.ln1(z + self.ffn(z))\n",
    "        return y"
   ]
  },
  {
   "cell_type": "code",
   "execution_count": 28,
   "metadata": {},
   "outputs": [],
   "source": [
    "transformer = Transformer(vector_size, heads)"
   ]
  },
  {
   "cell_type": "code",
   "execution_count": 31,
   "metadata": {
    "scrolled": true
   },
   "outputs": [
    {
     "data": {
      "text/plain": [
       "TensorShape([4, 10, 32])"
      ]
     },
     "execution_count": 31,
     "metadata": {},
     "output_type": "execute_result"
    }
   ],
   "source": [
    "transformer(x).shape"
   ]
  },
  {
   "cell_type": "code",
   "execution_count": null,
   "metadata": {},
   "outputs": [],
   "source": []
  }
 ],
 "metadata": {
  "kernelspec": {
   "display_name": "Python 3",
   "language": "python",
   "name": "python3"
  },
  "language_info": {
   "codemirror_mode": {
    "name": "ipython",
    "version": 3
   },
   "file_extension": ".py",
   "mimetype": "text/x-python",
   "name": "python",
   "nbconvert_exporter": "python",
   "pygments_lexer": "ipython3",
   "version": "3.8.6"
  }
 },
 "nbformat": 4,
 "nbformat_minor": 4
}
